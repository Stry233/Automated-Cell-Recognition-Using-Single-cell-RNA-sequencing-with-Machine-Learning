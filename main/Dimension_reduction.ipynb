{
 "cells": [
  {
   "cell_type": "code",
   "execution_count": 1,
   "metadata": {},
   "outputs": [
    {
     "name": "stdout",
     "output_type": "stream",
     "text": [
      "<class 'pandas.io.pytables.HDFStore'>\n",
      "File path: data/test_data.h5\n",
      "/accessions              series       (shape->[2855])      \n",
      "/gene_symbols            series       (shape->[1])         \n",
      "/labels                  series       (shape->[1])         \n",
      "/rpkm                    frame        (shape->[2855,20499])\n",
      "/true_ids                series       (shape->[1])         \n"
     ]
    }
   ],
   "source": [
    "import pandas as pd\n",
    "# 散点图绘制\n",
    "import numpy as np\n",
    "# open up a datastore\n",
    "store = pd.HDFStore('data/test_data.h5')\n",
    "print(store.info())"
   ]
  },
  {
   "cell_type": "code",
   "execution_count": 2,
   "metadata": {},
   "outputs": [],
   "source": [
    "data = store['rpkm']\n",
    "for idx in data.index:\n",
    "    to_write = data.loc[idx].tolist()\n",
    "    with open('data/test_data.txt', 'a') as f:\n",
    "        for i in to_write:\n",
    "            f.write(str(i))\n",
    "            f.write(' ')\n",
    "        f.write('\\n')"
   ]
  },
  {
   "cell_type": "code",
   "execution_count": 7,
   "metadata": {},
   "outputs": [],
   "source": [
    "import numpy as np\n",
    "\n",
    "data = np.loadtxt('data/test_data.txt')"
   ]
  },
  {
   "cell_type": "code",
   "execution_count": 8,
   "metadata": {},
   "outputs": [
    {
     "data": {
      "text/plain": [
       "(2855, 20499)"
      ]
     },
     "execution_count": 8,
     "metadata": {},
     "output_type": "execute_result"
    }
   ],
   "source": [
    "data.shape"
   ]
  },
  {
   "cell_type": "code",
   "execution_count": null,
   "metadata": {},
   "outputs": [
    {
     "ename": "Error",
     "evalue": "Session cannot generate requests",
     "output_type": "error",
     "traceback": [
      "Error: Session cannot generate requests",
      "at w.executeCodeCell (/home/cis/.vscode-server/extensions/ms-toolsai.jupyter-2021.8.1054968649/out/client/extension.js:90:320068)",
      "at w.execute (/home/cis/.vscode-server/extensions/ms-toolsai.jupyter-2021.8.1054968649/out/client/extension.js:90:319389)",
      "at w.start (/home/cis/.vscode-server/extensions/ms-toolsai.jupyter-2021.8.1054968649/out/client/extension.js:90:315205)",
      "at async t.CellExecutionQueue.executeQueuedCells (/home/cis/.vscode-server/extensions/ms-toolsai.jupyter-2021.8.1054968649/out/client/extension.js:90:329732)",
      "at async t.CellExecutionQueue.start (/home/cis/.vscode-server/extensions/ms-toolsai.jupyter-2021.8.1054968649/out/client/extension.js:90:329272)"
     ]
    }
   ],
   "source": [
    "from tsnecuda import TSNE\n",
    "tsen_cuda = TSNE()\n",
    "tsen_cuda.fit(data[0:1000])\n",
    "t_res = tsen_cuda.tranform(data[1000:])"
   ]
  },
  {
   "cell_type": "code",
   "execution_count": 3,
   "metadata": {},
   "outputs": [],
   "source": [
    "labels = np.loadtxt('test_labels.txt', dtype=np.str_)"
   ]
  },
  {
   "cell_type": "code",
   "execution_count": 4,
   "metadata": {},
   "outputs": [],
   "source": [
    "from sklearn.decomposition import SparsePCA\n",
    "pca = SparsePCA(n_components=2)\n",
    "reduced = pca.fit_transform(data)"
   ]
  },
  {
   "cell_type": "code",
   "execution_count": 5,
   "metadata": {},
   "outputs": [
    {
     "data": {
      "text/plain": [
       "array([ -150.60861756, -1016.24538612])"
      ]
     },
     "execution_count": 5,
     "metadata": {},
     "output_type": "execute_result"
    }
   ],
   "source": [
    "reduced.shape\n",
    "reduced[0]"
   ]
  },
  {
   "cell_type": "code",
   "execution_count": 6,
   "metadata": {},
   "outputs": [
    {
     "data": {
      "text/plain": [
       "array([ 150.60861756, 1016.24538612])"
      ]
     },
     "execution_count": 6,
     "metadata": {},
     "output_type": "execute_result"
    }
   ],
   "source": [
    "n_reduced = -reduced\n",
    "n_reduced[0]"
   ]
  },
  {
   "cell_type": "code",
   "execution_count": null,
   "metadata": {},
   "outputs": [
    {
     "ename": "Error",
     "evalue": "Session cannot generate requests",
     "output_type": "error",
     "traceback": [
      "Error: Session cannot generate requests",
      "at w.executeCodeCell (/home/cis/.vscode-server/extensions/ms-toolsai.jupyter-2021.8.1054968649/out/client/extension.js:90:320068)",
      "at w.execute (/home/cis/.vscode-server/extensions/ms-toolsai.jupyter-2021.8.1054968649/out/client/extension.js:90:319389)",
      "at w.start (/home/cis/.vscode-server/extensions/ms-toolsai.jupyter-2021.8.1054968649/out/client/extension.js:90:315205)",
      "at async t.CellExecutionQueue.executeQueuedCells (/home/cis/.vscode-server/extensions/ms-toolsai.jupyter-2021.8.1054968649/out/client/extension.js:90:329732)",
      "at async t.CellExecutionQueue.start (/home/cis/.vscode-server/extensions/ms-toolsai.jupyter-2021.8.1054968649/out/client/extension.js:90:329272)"
     ]
    }
   ],
   "source": [
    "name_id_dict = {'blastoderm cell':[22182], \n",
    "                'embryonic stem cell':[29087, 80168], \n",
    "                'liver':[84498,75659],\n",
    "                'cortex':[52564,79374,90860],\n",
    "                'lung epithelium':[61300],\n",
    "                'embryo':[53386,69970],\n",
    "                'cardiac muscle cell':[92247],\n",
    "                \"Ammon's horn\":[56638],\n",
    "                'hematopoietic stem cell':[66954,68981],\n",
    "                'dorsal root ganglion':[71453],\n",
    "                'embryonic cell':[65924],\n",
    "                'skin epidermis':[67602],\n",
    "                'neural cell':[67833],\n",
    "                'lung':[98048],\n",
    "                'osteocyte':[78907,70242],\n",
    "                'hypothalamus':[87544,90809],\n",
    "                'neuron':[75901,79108],\n",
    "                'pancreas':[78510],\n",
    "                'macrophage':[79510],\n",
    "                'brain':[79812],\n",
    "                'retina':[80232]}"
   ]
  },
  {
   "cell_type": "code",
   "execution_count": 19,
   "metadata": {},
   "outputs": [
    {
     "data": {
      "text/plain": [
       "(21,)"
      ]
     },
     "execution_count": 19,
     "metadata": {},
     "output_type": "execute_result"
    }
   ],
   "source": [
    "ids = [int(i.split('_')[0]) for i in np.unique(labels)]\n",
    "name_labels = []\n",
    "for i in ids:\n",
    "    n = ''\n",
    "    for key in name_id_dict.keys():\n",
    "        if i in name_id_dict[key]:\n",
    "            n = key\n",
    "            break\n",
    "    name_labels.append(n)\n",
    "np.unique(name_labels).shape\n"
   ]
  },
  {
   "cell_type": "code",
   "execution_count": 9,
   "metadata": {},
   "outputs": [],
   "source": [
    "from sklearn.manifold import TSNE\n",
    "tsne = TSNE()\n",
    "tsne_reduced = tsne.fit_transform(data[0:1000])"
   ]
  },
  {
   "cell_type": "code",
   "execution_count": 28,
   "metadata": {},
   "outputs": [
    {
     "data": {
      "text/plain": [
       "-43.511524"
      ]
     },
     "execution_count": 28,
     "metadata": {},
     "output_type": "execute_result"
    }
   ],
   "source": [
    "x = tsne_reduced.T[0]\n",
    "y = tsne_reduced.T[1]"
   ]
  },
  {
   "cell_type": "code",
   "execution_count": 32,
   "metadata": {},
   "outputs": [],
   "source": [
    "import matplotlib.pyplot as plt\n",
    "def show_reduced_fig(points, ids):\n",
    "    point_dict = {}\n",
    "    for i in range(len(ids)):\n",
    "        if ids[i] not in point_dict.keys():\n",
    "            point_dict[ids[i]] = [points[i]]\n",
    "        else:\n",
    "            point_dict[ids[i]].append(points[i])\n",
    "    for key in point_dict.keys():\n",
    "        p_list = point_dict[key]\n",
    "        x_list = [i[0] for i in p_list]\n",
    "        y_list = [i[1] for i in p_list]\n",
    "        plt.scatter(x_list, y_list)\n",
    "    plt.show()"
   ]
  },
  {
   "cell_type": "code",
   "execution_count": 34,
   "metadata": {},
   "outputs": [
    {
     "data": {
      "image/png": "[encoded data removed]",
      "text/plain": [
       "<Figure size 432x288 with 1 Axes>"
      ]
     },
     "metadata": {
      "needs_background": "light"
     },
     "output_type": "display_data"
    }
   ],
   "source": [
    "show_reduced_fig(n_reduced, name_labels)"
   ]
  },
  {
   "cell_type": "code",
   "execution_count": 33,
   "metadata": {},
   "outputs": [
    {
     "data": {
      "image/png": "[encoded data removed]",
      "text/plain": [
       "<Figure size 432x288 with 1 Axes>"
      ]
     },
     "metadata": {
      "needs_background": "light"
     },
     "output_type": "display_data"
    }
   ],
   "source": [
    "show_reduced_fig(tsne_reduced, name_labels[0:1000])"
   ]
  }
 ],
 "metadata": {
  "interpreter": {
   "hash": "38fbcabf388f4a1c5c724bd296f990dcf61be0a035edebcdcbd30ef48b3a710f"
  },
  "kernelspec": {
   "display_name": "cis2021",
   "language": "python",
   "name": "cis2021"
  },
  "language_info": {
   "codemirror_mode": {
    "name": "ipython",
    "version": 3
   },
   "file_extension": ".py",
   "mimetype": "text/x-python",
   "name": "python",
   "nbconvert_exporter": "python",
   "pygments_lexer": "ipython3",
   "version": "3.8.10"
  }
 },
 "nbformat": 4,
 "nbformat_minor": 2
}
