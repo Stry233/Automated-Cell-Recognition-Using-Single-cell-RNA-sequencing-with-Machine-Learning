{
 "cells": [
  {
   "cell_type": "code",
   "execution_count": 1,
   "id": "b1d8cef7",
   "metadata": {},
   "outputs": [
    {
     "ename": "ModuleNotFoundError",
     "evalue": "No module named 'keras'",
     "output_type": "error",
     "traceback": [
      "\u001b[0;31m---------------------------------------------------------------------------\u001b[0m",
      "\u001b[0;31mModuleNotFoundError\u001b[0m                       Traceback (most recent call last)",
      "\u001b[0;32m/tmp/ipykernel_23002/603327151.py\u001b[0m in \u001b[0;36m<module>\u001b[0;34m\u001b[0m\n\u001b[1;32m     15\u001b[0m \u001b[0;32mfrom\u001b[0m \u001b[0msklearn\u001b[0m\u001b[0;34m.\u001b[0m\u001b[0mdecomposition\u001b[0m \u001b[0;32mimport\u001b[0m \u001b[0mPCA\u001b[0m\u001b[0;34m\u001b[0m\u001b[0;34m\u001b[0m\u001b[0m\n\u001b[1;32m     16\u001b[0m \u001b[0;34m\u001b[0m\u001b[0m\n\u001b[0;32m---> 17\u001b[0;31m \u001b[0;32mfrom\u001b[0m \u001b[0mkeras\u001b[0m\u001b[0;34m.\u001b[0m\u001b[0mlayers\u001b[0m \u001b[0;32mimport\u001b[0m \u001b[0mInput\u001b[0m\u001b[0;34m,\u001b[0m \u001b[0mDense\u001b[0m\u001b[0;34m\u001b[0m\u001b[0;34m\u001b[0m\u001b[0m\n\u001b[0m\u001b[1;32m     18\u001b[0m \u001b[0;32mfrom\u001b[0m \u001b[0mkeras\u001b[0m\u001b[0;34m.\u001b[0m\u001b[0mmodels\u001b[0m \u001b[0;32mimport\u001b[0m \u001b[0mModel\u001b[0m\u001b[0;34m\u001b[0m\u001b[0;34m\u001b[0m\u001b[0m\n",
      "\u001b[0;31mModuleNotFoundError\u001b[0m: No module named 'keras'"
     ]
    }
   ],
   "source": [
    "import numpy as np\n",
    "import pandas as pd\n",
    "import pickle\n",
    "import os\n",
    "import timeit\n",
    "\n",
    "from sklearn.tree import DecisionTreeClassifier\n",
    "from sklearn.ensemble import RandomForestClassifier\n",
    "from sklearn.ensemble import GradientBoostingClassifier\n",
    "from sklearn.ensemble import AdaBoostClassifier\n",
    "from sklearn.metrics import accuracy_score\n",
    "from sklearn.model_selection import train_test_split\n",
    "from sklearn.pipeline import Pipeline\n",
    "from sklearn.preprocessing import StandardScaler\n",
    "from sklearn.decomposition import PCA"
   ]
  },
  {
   "cell_type": "code",
   "execution_count": 7,
   "id": "01ea66dd",
   "metadata": {},
   "outputs": [
    {
     "name": "stdout",
     "output_type": "stream",
     "text": [
      "[[-0.29775689 -0.06689157 -0.05836439 ... -0.0470183  -0.27611285\n",
      "  -0.03743633]\n",
      " [-0.2859731  -0.13170819 -0.05836439 ...  0.00718401 -0.22008435\n",
      "   0.21229063]\n",
      " [-0.29775689 -0.13170819 -0.05836439 ... -0.11348996 -0.22217223\n",
      "   1.06572229]\n",
      " ...\n",
      " [ 0.19015075 -0.1092272  -0.05836439 ...  0.0901771  -0.27611285\n",
      "  -0.17879776]\n",
      " [-0.21313256 -0.04541021 -0.05836439 ...  0.0077451  -0.27611285\n",
      "  -0.25305681]\n",
      " [ 0.01536751 -0.12131892 -0.05836439 ... -0.10400494 -0.22996484\n",
      "  -0.29015986]] [[ 0.1874915  -0.13170819 -0.05836439 ... -0.11207137 -0.10183906\n",
      "  -0.09411121]\n",
      " [ 0.21721061 -0.11576607 -0.05836439 ... -0.10752291 -0.12593185\n",
      "  -0.16323507]\n",
      " [ 0.04700066 -0.08824062 -0.05836439 ... -0.10170286 -0.13227599\n",
      "  -0.19391945]\n",
      " ...\n",
      " [-0.29775689 -0.13170819 -0.05836439 ... -0.12971068  0.23666011\n",
      "  -0.40749786]\n",
      " [-0.29775689 -0.13170819 -0.05836439 ... -0.12971068 -0.27611285\n",
      "  -0.40749786]\n",
      " [-0.29775689 -0.13170819 -0.05836439 ... -0.12971068 -0.27611285\n",
      "  -0.3700034 ]]\n"
     ]
    }
   ],
   "source": [
    "store = pd.HDFStore('data/train_data.h5')\n",
    "train_features = store['rpkm']  # 21389\n",
    "store.close()\n",
    "\n",
    "store = pd.HDFStore('data/test_data.h5')\n",
    "test_features = store['rpkm']   # 2855\n",
    "store.close()\n",
    "\n",
    "scaler = StandardScaler().fit(train_features)\n",
    "train_features = scaler.transform(train_features)\n",
    "test_features = scaler.transform(test_features)\n",
    "\n",
    "print(train_features, test_features)\n"
   ]
  },
  {
   "cell_type": "code",
   "execution_count": null,
   "id": "8125650f",
   "metadata": {},
   "outputs": [],
   "source": [
    "encoding_dim = 100\n",
    "\n",
    "\n",
    "def load_data(): \n",
    "\n",
    "\n",
    "def do_auto_encoder(X_train, X_test):\n",
    "    ncol = X_train.shape[1]\n",
    "    input_dim = Input(shape = (ncol, ))\n",
    "\n",
    "    encoded1 = Dense(1000, activation = 'relu')(input_dim)\n",
    "    encoded2 = Dense(encoding_dim, activation = 'relu')(encoded1)\n",
    "    decoded1 = Dense(1000, activation = 'sigmoid')(encoded2)\n",
    "    decoded2 = Dense(ncol, activation = 'sigmoid')(decoded1)\n",
    "    \n",
    "    print(\"start training...\")\n",
    "    start_time = timeit.default_timer()\n",
    "    autoencoder = Model(input = input_dim, output = decoded2)\n",
    "    autoencoder.compile(optimizer = 'sgd', loss='mean_squared_error', metrics=['mse'])\n",
    "    autoencoder.fit(X_train, X_train, epochs = 20, batch_size = 100, shuffle = True, validation_data = (X_test, X_test))\n",
    "    end_time = timeit.default_timer()\n",
    "    print(\"training time: %s\", str(end_time - start_time))\n",
    "    \n",
    "    encoder = Model(input = input_dim, output = encoded2)\n",
    "    cache_file_name = \"models/encoder_%d.model\" % encoding_dim\n",
    "    pickle.dump(encoder, open(cache_file_name, \"wb\"))"
   ]
  },
  {
   "cell_type": "code",
   "execution_count": null,
   "id": "1153d5d9",
   "metadata": {},
   "outputs": [],
   "source": []
  },
  {
   "cell_type": "code",
   "execution_count": null,
   "id": "e9c77669",
   "metadata": {},
   "outputs": [],
   "source": []
  },
  {
   "cell_type": "code",
   "execution_count": null,
   "id": "86da2fc7",
   "metadata": {},
   "outputs": [],
   "source": [
    "if __name__ == '__main__':\n",
    "    X_train, X_test = load_data()\n",
    "    print(\"number of features = %d\" % X_train.shape[1])\n",
    "    \n",
    "    do_auto_encoder(X_train, X_test)"
   ]
  },
  {
   "cell_type": "code",
   "execution_count": null,
   "id": "1df9f5ba",
   "metadata": {},
   "outputs": [],
   "source": []
  }
 ],
 "metadata": {
  "kernelspec": {
   "display_name": "cis2021",
   "language": "python",
   "name": "cis2021"
  },
  "language_info": {
   "codemirror_mode": {
    "name": "ipython",
    "version": 3
   },
   "file_extension": ".py",
   "mimetype": "text/x-python",
   "name": "python",
   "nbconvert_exporter": "python",
   "pygments_lexer": "ipython3",
   "version": "3.8.10"
  }
 },
 "nbformat": 4,
 "nbformat_minor": 5
}
