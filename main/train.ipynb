{
 "cells": [
  {
   "cell_type": "code",
   "execution_count": 2,
   "metadata": {},
   "outputs": [],
   "source": [
    "import numpy as np\n",
    "import pandas as pd\n",
    "from sklearn.decomposition import PCA\n",
    "from tsnecuda import TSNE\n",
    "import time\n",
    "from sklearn.ensemble import RandomForestClassifier\n",
    "from sklearn.model_selection import train_test_split"
   ]
  },
  {
   "cell_type": "code",
   "execution_count": 2,
   "metadata": {},
   "outputs": [],
   "source": [
    "def getParsing(inputRawData,mode):\n",
    "    \"\"\"\n",
    "    This function will return the info based\n",
    "    on input but exclues all unecessary info\n",
    "    contain in the file\n",
    "    \n",
    "    Parameters\n",
    "    ----------\n",
    "    inputRawData : str\n",
    "        the input file\n",
    "        \n",
    "    mode : str\n",
    "        the mode (train, test, all)\n",
    "    \n",
    "    Returns\n",
    "    -------\n",
    "    dict\n",
    "        key : str\n",
    "            name of cell\n",
    "        value : set(int)\n",
    "            all id\n",
    "    \"\"\"\n",
    "    # initialize all variable\n",
    "    res = dict()\n",
    "    nowKey = \"\"\n",
    "    \n",
    "    # delete all empty line then convert to list for traverse\n",
    "    dataSplit = [x for x in inputRawData.split(\"\\n\") if x!='']\n",
    "    \n",
    "    # traverse start, input info in dict\n",
    "    for line in dataSplit:\n",
    "        lineSegment = line.split()\n",
    "        idParsing = lineSegment[0].split(\":\")\n",
    "        if (len(idParsing) == 2 and idParsing[0].isalpha() and idParsing[1].isdigit()):\n",
    "            nowKey = \" \".join(str(i) for i in lineSegment[1::])\n",
    "        elif (len(lineSegment) == 3 and lineSegment[2].isdigit()):\n",
    "            if (lineSegment[0][0] == '*' and (mode == \"test\" or mode == \"all\")): # case: test\n",
    "                if (not nowKey in res.keys()):\n",
    "                    res[nowKey] = set()\n",
    "                res[nowKey].add(int(lineSegment[0][1::]))\n",
    "            elif (lineSegment[0].isdigit() and (mode == \"train\" or mode == \"all\")): # case: train\n",
    "                if (not nowKey in res.keys()):\n",
    "                    res[nowKey] = set()\n",
    "                res[nowKey].add(int(lineSegment[0]))\n",
    "    return res"
   ]
  },
  {
   "cell_type": "code",
   "execution_count": 3,
   "metadata": {},
   "outputs": [],
   "source": [
    "def getData(train):\n",
    "    if train:\n",
    "        path = 'data/train_data.h5'\n",
    "        mode = 'train'\n",
    "    else:\n",
    "        path = 'data/test_data.h5'\n",
    "        mode = 'test'\n",
    "\n",
    "    # Load the data and convert to numpy array\n",
    "    print(\"Start loading the data\")\n",
    "    store = pd.HDFStore(path)\n",
    "    ori_rpkm = store['rpkm']\n",
    "    samples = []\n",
    "    cnt = 1\n",
    "    total = len(ori_rpkm.index)\n",
    "    for idx in ori_rpkm.index:\n",
    "        if cnt % 1000 == 0:\n",
    "            print(f'{cnt} / {total} finished')\n",
    "        samples.append(ori_rpkm.loc[idx].tolist())\n",
    "        cnt += 1\n",
    "    samples = np.array(samples)\n",
    "    labels = np.array([int(i.split('_')[0]) for i in ori_rpkm.index.tolist()])\n",
    "    del store\n",
    "    print('Finish loading the data')\n",
    "    print('Samples:', samples.shape)\n",
    "    print('Labels:', labels.shape)\n",
    "\n",
    "    # Convert the label to index and save the corresponding index and cell type\n",
    "    print(\"Start converting the labels\")\n",
    "    rawData = open(\"data/README.txt\").read()\n",
    "    name_id_dict = getParsing(rawData, mode)\n",
    "    name_labels = []\n",
    "    for l in labels:\n",
    "        name = ''\n",
    "        for key in name_id_dict:\n",
    "            if l in name_id_dict[key]:\n",
    "                name = key\n",
    "                break\n",
    "        name_labels.append(name)\n",
    "    res_labels = []\n",
    "    idx_name_dict = {}\n",
    "    now_idx = 0\n",
    "    for n in name_labels:\n",
    "        if n not in idx_name_dict.keys():\n",
    "            idx_name_dict[n] = now_idx\n",
    "            res_labels.append(now_idx)\n",
    "            now_idx += 1\n",
    "        else:\n",
    "            res_labels.append(idx_name_dict[n])\n",
    "    with open(f'data/{mode}_idx_name.txt', 'w') as f:\n",
    "        for key in idx_name_dict.keys():\n",
    "            f.write(key)\n",
    "            f.write(':')\n",
    "            f.write(str(idx_name_dict[key]))\n",
    "            f.write('\\n')\n",
    "    print(\"Finish converting the labels\")\n",
    "    return samples, res_labels\n"
   ]
  },
  {
   "cell_type": "code",
   "execution_count": 4,
   "metadata": {},
   "outputs": [],
   "source": [
    "def tsne_test(train_data, train_labels, test_data, test_labels):\n",
    "    tsne = TSNE()\n",
    "    print('Start training TSNE')\n",
    "    begin = time.time()\n",
    "    reduced = tsne.fit_transform(train_data)\n",
    "    print('Finish training')\n",
    "    print(f\"Time: {time.time() - begin}s\")\n",
    "    with open('tsne_reduced.txt', 'w') as f:\n",
    "        for i in reduced:\n",
    "            f.write(str(i[0]))\n",
    "            f.write(' ')\n",
    "            f.write(str(i[1]))\n",
    "            f.write('\\n')\n",
    "    print('Start training classifier')\n",
    "    begin = time.time()\n",
    "    rfc = RandomForestClassifier()\n",
    "    rfc.fit(reduced, train_labels)\n",
    "    print('Finish training classifier')\n",
    "    X_test = tsne.transform(test_data)\n",
    "    print('Accuracy:', rfc.score(X_test, test_labels))"
   ]
  },
  {
   "cell_type": "code",
   "execution_count": 5,
   "metadata": {},
   "outputs": [
    {
     "name": "stdout",
     "output_type": "stream",
     "text": [
      "Start loading the data\n",
      "1000 / 2855 finished\n",
      "2000 / 2855 finished\n",
      "Finish loading the data\n",
      "Samples: (2855, 20499)\n",
      "Labels: (2855,)\n",
      "Start converting the labels\n",
      "Finish converting the labels\n",
      "Start training TSNE\n",
      "Finish training\n",
      "Time: 4.084206819534302s\n",
      "Start training classifier\n",
      "Finish training classifier\n"
     ]
    },
    {
     "ename": "AttributeError",
     "evalue": "'TSNE' object has no attribute 'transform'",
     "output_type": "error",
     "traceback": [
      "\u001b[0;31m---------------------------------------------------------------------------\u001b[0m",
      "\u001b[0;31mAttributeError\u001b[0m                            Traceback (most recent call last)",
      "\u001b[0;32m/tmp/ipykernel_24136/2082057235.py\u001b[0m in \u001b[0;36m<module>\u001b[0;34m\u001b[0m\n\u001b[1;32m      1\u001b[0m \u001b[0mX\u001b[0m\u001b[0;34m,\u001b[0m \u001b[0my\u001b[0m \u001b[0;34m=\u001b[0m \u001b[0mgetData\u001b[0m\u001b[0;34m(\u001b[0m\u001b[0;32mFalse\u001b[0m\u001b[0;34m)\u001b[0m\u001b[0;34m\u001b[0m\u001b[0;34m\u001b[0m\u001b[0m\n\u001b[1;32m      2\u001b[0m \u001b[0mX_train\u001b[0m\u001b[0;34m,\u001b[0m \u001b[0mX_test\u001b[0m\u001b[0;34m,\u001b[0m \u001b[0my_train\u001b[0m\u001b[0;34m,\u001b[0m \u001b[0my_test\u001b[0m \u001b[0;34m=\u001b[0m \u001b[0mtrain_test_split\u001b[0m\u001b[0;34m(\u001b[0m\u001b[0mX\u001b[0m\u001b[0;34m,\u001b[0m \u001b[0my\u001b[0m\u001b[0;34m,\u001b[0m \u001b[0mtest_size\u001b[0m\u001b[0;34m=\u001b[0m\u001b[0;36m0.2\u001b[0m\u001b[0;34m)\u001b[0m\u001b[0;34m\u001b[0m\u001b[0;34m\u001b[0m\u001b[0m\n\u001b[0;32m----> 3\u001b[0;31m \u001b[0mtsne_test\u001b[0m\u001b[0;34m(\u001b[0m\u001b[0mX_train\u001b[0m\u001b[0;34m,\u001b[0m \u001b[0my_train\u001b[0m\u001b[0;34m,\u001b[0m \u001b[0mX_test\u001b[0m\u001b[0;34m,\u001b[0m \u001b[0my_test\u001b[0m\u001b[0;34m)\u001b[0m\u001b[0;34m\u001b[0m\u001b[0;34m\u001b[0m\u001b[0m\n\u001b[0m",
      "\u001b[0;32m/tmp/ipykernel_24136/2904678315.py\u001b[0m in \u001b[0;36mtsne_test\u001b[0;34m(train_data, train_labels, test_data, test_labels)\u001b[0m\n\u001b[1;32m     17\u001b[0m     \u001b[0mrfc\u001b[0m\u001b[0;34m.\u001b[0m\u001b[0mfit\u001b[0m\u001b[0;34m(\u001b[0m\u001b[0mreduced\u001b[0m\u001b[0;34m,\u001b[0m \u001b[0mtrain_labels\u001b[0m\u001b[0;34m)\u001b[0m\u001b[0;34m\u001b[0m\u001b[0;34m\u001b[0m\u001b[0m\n\u001b[1;32m     18\u001b[0m     \u001b[0mprint\u001b[0m\u001b[0;34m(\u001b[0m\u001b[0;34m'Finish training classifier'\u001b[0m\u001b[0;34m)\u001b[0m\u001b[0;34m\u001b[0m\u001b[0;34m\u001b[0m\u001b[0m\n\u001b[0;32m---> 19\u001b[0;31m     \u001b[0mX_test\u001b[0m \u001b[0;34m=\u001b[0m \u001b[0mtsne\u001b[0m\u001b[0;34m.\u001b[0m\u001b[0mtransform\u001b[0m\u001b[0;34m(\u001b[0m\u001b[0mtest_data\u001b[0m\u001b[0;34m)\u001b[0m\u001b[0;34m\u001b[0m\u001b[0;34m\u001b[0m\u001b[0m\n\u001b[0m\u001b[1;32m     20\u001b[0m     \u001b[0mprint\u001b[0m\u001b[0;34m(\u001b[0m\u001b[0;34m'Accuracy:'\u001b[0m\u001b[0;34m,\u001b[0m \u001b[0mrfc\u001b[0m\u001b[0;34m.\u001b[0m\u001b[0mscore\u001b[0m\u001b[0;34m(\u001b[0m\u001b[0mX_test\u001b[0m\u001b[0;34m,\u001b[0m \u001b[0mtest_labels\u001b[0m\u001b[0;34m)\u001b[0m\u001b[0;34m)\u001b[0m\u001b[0;34m\u001b[0m\u001b[0;34m\u001b[0m\u001b[0m\n",
      "\u001b[0;31mAttributeError\u001b[0m: 'TSNE' object has no attribute 'transform'"
     ]
    }
   ],
   "source": [
    "X, y = getData(False)\n",
    "X_train, X_test, y_train, y_test = train_test_split(X, y, test_size=0.2)\n",
    "tsne_test(X_train, y_train, X_test, y_test)"
   ]
  },
  {
   "cell_type": "code",
   "execution_count": 2,
   "metadata": {},
   "outputs": [
    {
     "data": {
      "text/plain": [
       "'RandomForestClassifier'"
      ]
     },
     "execution_count": 2,
     "metadata": {},
     "output_type": "execute_result"
    }
   ],
   "source": [
    "import matplotlib.pyplot as plt\n",
    "x = [1,3,4,5]\n",
    "y = [1,3,4,5]\n",
    "plt.plot(x,y)\n",
    "plt.xlabel('n_estimators')\n",
    "plt.ylabel('Accuracy')"
   ]
  },
  {
   "cell_type": "code",
   "execution_count": 8,
   "metadata": {},
   "outputs": [
    {
     "data": {
      "text/plain": [
       "array([ 0,  1,  2,  3,  4,  5,  6,  7,  8,  9, 10, 11, 12, 13, 14, 15, 16,\n",
       "       17, 18, 19, 20])"
      ]
     },
     "execution_count": 8,
     "metadata": {},
     "output_type": "execute_result"
    }
   ],
   "source": [
    "store = pd.HDFStore('data/test_data.h5')\n",
    "ori_labels = store['labels']\n",
    "labels = []\n",
    "for idx in ori_labels.index:\n",
    "    labels.append(ori_labels[idx])\n",
    "\n",
    "id_labels = []\n",
    "idx_name_dict = {}\n",
    "cnt = 0\n",
    "for l in labels:\n",
    "    if l not in idx_name_dict.keys():\n",
    "        idx_name_dict[l] = cnt\n",
    "        id_labels.append(cnt)\n",
    "        cnt += 1\n",
    "    else:\n",
    "        id_labels.append(idx_name_dict[l])\n",
    "np.unique(id_labels)"
   ]
  }
 ],
 "metadata": {
  "interpreter": {
   "hash": "38fbcabf388f4a1c5c724bd296f990dcf61be0a035edebcdcbd30ef48b3a710f"
  },
  "kernelspec": {
   "display_name": "Python 3",
   "language": "python",
   "name": "python3"
  },
  "language_info": {
   "codemirror_mode": {
    "name": "ipython",
    "version": 3
   },
   "file_extension": ".py",
   "mimetype": "text/x-python",
   "name": "python",
   "nbconvert_exporter": "python",
   "pygments_lexer": "ipython3",
   "version": "3.7.3"
  }
 },
 "nbformat": 4,
 "nbformat_minor": 2
}
